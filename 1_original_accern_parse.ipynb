{
  "cells": [
    {
      "cell_type": "markdown",
      "metadata": {
        "colab_type": "text",
        "id": "view-in-github"
      },
      "source": [
        "<a href=\"https://colab.research.google.com/github/hirokiOS/SentimentAnalysisWithDownloadedDataSource/blob/main/1_original_accern_parse.ipynb\" target=\"_parent\"><img src=\"https://colab.research.google.com/assets/colab-badge.svg\" alt=\"Open In Colab\"/></a>"
      ]
    },
    {
      "cell_type": "markdown",
      "metadata": {},
      "source": [
        "# 環境 セットアップ"
      ]
    },
    {
      "cell_type": "markdown",
      "metadata": {},
      "source": [
        "デフォルトではGoogle colabノートブックを開く度に毎回のpip install実行が必要になります。pipでinstallした開発環境の永続化にはGoogle driveへのPip installが必要です. 以下など参照してください。\n",
        "https://ggcs.io/2020/06/22/google-colab-pip-install/"
      ]
    },
    {
      "cell_type": "code",
      "execution_count": 1,
      "metadata": {},
      "outputs": [
        {
          "name": "stdout",
          "output_type": "stream",
          "text": [
            "Requirement already satisfied: pandas in /Users/hiroki/.pyenv/versions/anaconda3-2023.07-0/lib/python3.11/site-packages (1.5.3)\n",
            "Requirement already satisfied: tqdm in /Users/hiroki/.pyenv/versions/anaconda3-2023.07-0/lib/python3.11/site-packages (4.65.0)\n",
            "Requirement already satisfied: python-dateutil>=2.8.1 in /Users/hiroki/.pyenv/versions/anaconda3-2023.07-0/lib/python3.11/site-packages (from pandas) (2.8.2)\n",
            "Requirement already satisfied: pytz>=2020.1 in /Users/hiroki/.pyenv/versions/anaconda3-2023.07-0/lib/python3.11/site-packages (from pandas) (2022.7)\n",
            "Requirement already satisfied: numpy>=1.21.0 in /Users/hiroki/.pyenv/versions/anaconda3-2023.07-0/lib/python3.11/site-packages (from pandas) (1.24.2)\n",
            "Requirement already satisfied: six>=1.5 in /Users/hiroki/.pyenv/versions/anaconda3-2023.07-0/lib/python3.11/site-packages (from python-dateutil>=2.8.1->pandas) (1.16.0)\n",
            "Requirement already satisfied: datasets in /Users/hiroki/.pyenv/versions/anaconda3-2023.07-0/lib/python3.11/site-packages (2.14.6)\n",
            "Requirement already satisfied: pyarrow in /Users/hiroki/.pyenv/versions/anaconda3-2023.07-0/lib/python3.11/site-packages (13.0.0)\n",
            "Requirement already satisfied: numpy>=1.17 in /Users/hiroki/.pyenv/versions/anaconda3-2023.07-0/lib/python3.11/site-packages (from datasets) (1.24.2)\n",
            "Requirement already satisfied: dill<0.3.8,>=0.3.0 in /Users/hiroki/.pyenv/versions/anaconda3-2023.07-0/lib/python3.11/site-packages (from datasets) (0.3.7)\n",
            "Requirement already satisfied: pandas in /Users/hiroki/.pyenv/versions/anaconda3-2023.07-0/lib/python3.11/site-packages (from datasets) (1.5.3)\n",
            "Requirement already satisfied: requests>=2.19.0 in /Users/hiroki/.pyenv/versions/anaconda3-2023.07-0/lib/python3.11/site-packages (from datasets) (2.31.0)\n",
            "Requirement already satisfied: tqdm>=4.62.1 in /Users/hiroki/.pyenv/versions/anaconda3-2023.07-0/lib/python3.11/site-packages (from datasets) (4.65.0)\n",
            "Requirement already satisfied: xxhash in /Users/hiroki/.pyenv/versions/anaconda3-2023.07-0/lib/python3.11/site-packages (from datasets) (3.4.1)\n",
            "Requirement already satisfied: multiprocess in /Users/hiroki/.pyenv/versions/anaconda3-2023.07-0/lib/python3.11/site-packages (from datasets) (0.70.15)\n",
            "Requirement already satisfied: fsspec<=2023.10.0,>=2023.1.0 in /Users/hiroki/.pyenv/versions/anaconda3-2023.07-0/lib/python3.11/site-packages (from fsspec[http]<=2023.10.0,>=2023.1.0->datasets) (2023.3.0)\n",
            "Requirement already satisfied: aiohttp in /Users/hiroki/.pyenv/versions/anaconda3-2023.07-0/lib/python3.11/site-packages (from datasets) (3.8.3)\n",
            "Requirement already satisfied: huggingface-hub<1.0.0,>=0.14.0 in /Users/hiroki/.pyenv/versions/anaconda3-2023.07-0/lib/python3.11/site-packages (from datasets) (0.17.3)\n",
            "Requirement already satisfied: packaging in /Users/hiroki/.pyenv/versions/anaconda3-2023.07-0/lib/python3.11/site-packages (from datasets) (23.0)\n",
            "Requirement already satisfied: pyyaml>=5.1 in /Users/hiroki/.pyenv/versions/anaconda3-2023.07-0/lib/python3.11/site-packages (from datasets) (6.0)\n",
            "Requirement already satisfied: attrs>=17.3.0 in /Users/hiroki/.pyenv/versions/anaconda3-2023.07-0/lib/python3.11/site-packages (from aiohttp->datasets) (22.1.0)\n",
            "Requirement already satisfied: charset-normalizer<3.0,>=2.0 in /Users/hiroki/.pyenv/versions/anaconda3-2023.07-0/lib/python3.11/site-packages (from aiohttp->datasets) (2.0.4)\n",
            "Requirement already satisfied: multidict<7.0,>=4.5 in /Users/hiroki/.pyenv/versions/anaconda3-2023.07-0/lib/python3.11/site-packages (from aiohttp->datasets) (6.0.2)\n",
            "Requirement already satisfied: async-timeout<5.0,>=4.0.0a3 in /Users/hiroki/.pyenv/versions/anaconda3-2023.07-0/lib/python3.11/site-packages (from aiohttp->datasets) (4.0.2)\n",
            "Requirement already satisfied: yarl<2.0,>=1.0 in /Users/hiroki/.pyenv/versions/anaconda3-2023.07-0/lib/python3.11/site-packages (from aiohttp->datasets) (1.8.1)\n",
            "Requirement already satisfied: frozenlist>=1.1.1 in /Users/hiroki/.pyenv/versions/anaconda3-2023.07-0/lib/python3.11/site-packages (from aiohttp->datasets) (1.3.3)\n",
            "Requirement already satisfied: aiosignal>=1.1.2 in /Users/hiroki/.pyenv/versions/anaconda3-2023.07-0/lib/python3.11/site-packages (from aiohttp->datasets) (1.2.0)\n",
            "Requirement already satisfied: filelock in /Users/hiroki/.pyenv/versions/anaconda3-2023.07-0/lib/python3.11/site-packages (from huggingface-hub<1.0.0,>=0.14.0->datasets) (3.9.0)\n",
            "Requirement already satisfied: typing-extensions>=3.7.4.3 in /Users/hiroki/.pyenv/versions/anaconda3-2023.07-0/lib/python3.11/site-packages (from huggingface-hub<1.0.0,>=0.14.0->datasets) (4.7.1)\n",
            "Requirement already satisfied: idna<4,>=2.5 in /Users/hiroki/.pyenv/versions/anaconda3-2023.07-0/lib/python3.11/site-packages (from requests>=2.19.0->datasets) (3.4)\n",
            "Requirement already satisfied: urllib3<3,>=1.21.1 in /Users/hiroki/.pyenv/versions/anaconda3-2023.07-0/lib/python3.11/site-packages (from requests>=2.19.0->datasets) (1.26.16)\n",
            "Requirement already satisfied: certifi>=2017.4.17 in /Users/hiroki/.pyenv/versions/anaconda3-2023.07-0/lib/python3.11/site-packages (from requests>=2.19.0->datasets) (2023.7.22)\n",
            "Requirement already satisfied: python-dateutil>=2.8.1 in /Users/hiroki/.pyenv/versions/anaconda3-2023.07-0/lib/python3.11/site-packages (from pandas->datasets) (2.8.2)\n",
            "Requirement already satisfied: pytz>=2020.1 in /Users/hiroki/.pyenv/versions/anaconda3-2023.07-0/lib/python3.11/site-packages (from pandas->datasets) (2022.7)\n",
            "Requirement already satisfied: six>=1.5 in /Users/hiroki/.pyenv/versions/anaconda3-2023.07-0/lib/python3.11/site-packages (from python-dateutil>=2.8.1->pandas->datasets) (1.16.0)\n",
            "Requirement already satisfied: accern-data in /Users/hiroki/.pyenv/versions/anaconda3-2023.07-0/lib/python3.11/site-packages (0.0.4)\n",
            "Requirement already satisfied: pandas>=1.3.0 in /Users/hiroki/.pyenv/versions/anaconda3-2023.07-0/lib/python3.11/site-packages (from accern-data) (1.5.3)\n",
            "Requirement already satisfied: requests>=2.27.1 in /Users/hiroki/.pyenv/versions/anaconda3-2023.07-0/lib/python3.11/site-packages (from accern-data) (2.31.0)\n",
            "Requirement already satisfied: tqdm>=4.64.0 in /Users/hiroki/.pyenv/versions/anaconda3-2023.07-0/lib/python3.11/site-packages (from accern-data) (4.65.0)\n",
            "Requirement already satisfied: typing-extensions>=4.3.0 in /Users/hiroki/.pyenv/versions/anaconda3-2023.07-0/lib/python3.11/site-packages (from accern-data) (4.7.1)\n",
            "Requirement already satisfied: python-dateutil>=2.8.1 in /Users/hiroki/.pyenv/versions/anaconda3-2023.07-0/lib/python3.11/site-packages (from pandas>=1.3.0->accern-data) (2.8.2)\n",
            "Requirement already satisfied: pytz>=2020.1 in /Users/hiroki/.pyenv/versions/anaconda3-2023.07-0/lib/python3.11/site-packages (from pandas>=1.3.0->accern-data) (2022.7)\n",
            "Requirement already satisfied: numpy>=1.21.0 in /Users/hiroki/.pyenv/versions/anaconda3-2023.07-0/lib/python3.11/site-packages (from pandas>=1.3.0->accern-data) (1.24.2)\n",
            "Requirement already satisfied: charset-normalizer<4,>=2 in /Users/hiroki/.pyenv/versions/anaconda3-2023.07-0/lib/python3.11/site-packages (from requests>=2.27.1->accern-data) (2.0.4)\n",
            "Requirement already satisfied: idna<4,>=2.5 in /Users/hiroki/.pyenv/versions/anaconda3-2023.07-0/lib/python3.11/site-packages (from requests>=2.27.1->accern-data) (3.4)\n",
            "Requirement already satisfied: urllib3<3,>=1.21.1 in /Users/hiroki/.pyenv/versions/anaconda3-2023.07-0/lib/python3.11/site-packages (from requests>=2.27.1->accern-data) (1.26.16)\n",
            "Requirement already satisfied: certifi>=2017.4.17 in /Users/hiroki/.pyenv/versions/anaconda3-2023.07-0/lib/python3.11/site-packages (from requests>=2.27.1->accern-data) (2023.7.22)\n",
            "Requirement already satisfied: six>=1.5 in /Users/hiroki/.pyenv/versions/anaconda3-2023.07-0/lib/python3.11/site-packages (from python-dateutil>=2.8.1->pandas>=1.3.0->accern-data) (1.16.0)\n"
          ]
        }
      ],
      "source": [
        "!pip install pandas tqdm \n",
        "!pip install datasets pyarrow       # convert df to be readable for Transformer classifier\n",
        "!pip install accern-data"
      ]
    },
    {
      "cell_type": "code",
      "execution_count": null,
      "metadata": {
        "id": "5F66Gx9e54g3"
      },
      "outputs": [],
      "source": [
        "import pyarrow.dataset as ds\n",
        "import pyarrow as pa\n",
        "from datasets import Dataset\n",
        "import pickle\n",
        "import json\n",
        "import pandas as pd\n",
        "from tqdm import tqdm\n",
        "# from function import ConvertDfToHFData"
      ]
    },
    {
      "cell_type": "markdown",
      "metadata": {},
      "source": [
        "## load custom modules from raw python file on github"
      ]
    },
    {
      "cell_type": "code",
      "execution_count": null,
      "metadata": {},
      "outputs": [],
      "source": [
        "import requests\n",
        "# Save datagenerators as file to colab working directory\n",
        "# If you are using GitHub, make sure you get the \"Raw\" version of the code\n",
        "giturl1 = 'https://raw.githubusercontent.com/hirokiOS/SentimentAnalysisWithDownloadedDataSource/main/acc_function/ACCDFConcatenator.py'\n",
        "giturl2 = 'https://raw.githubusercontent.com/hirokiOS/SentimentAnalysisWithDownloadedDataSource/main/acc_function/ConvertDfToHFData.py'\n",
        "\n",
        "giturls = [giturl1, giturl2]\n",
        "\n",
        "for giturl in giturls:\n",
        "    r = requests.get(giturl)\n",
        "    \n",
        "    filename = giturl.split(\"/\")[-1]\n",
        "    # make sure your filename is the same as how you want to import \n",
        "    with open(filename, 'w') as f:\n",
        "        f.write(r.text)\n",
        "\n",
        "# now we can import\n",
        "from ACCDFConcatenator import DFConcatenator\n",
        "from ConvertDfToHFData import Convert4SentimentAnalysis"
      ]
    },
    {
      "cell_type": "code",
      "execution_count": null,
      "metadata": {},
      "outputs": [],
      "source": [
        "# see if module loaded\n",
        "print(Convert4SentimentAnalysis)\n",
        "print(DFConcatenator)"
      ]
    },
    {
      "cell_type": "markdown",
      "metadata": {
        "id": "0rBCZCni54gp"
      },
      "source": [
        "# Data under accern-raw-json or Accern's API provided"
      ]
    },
    {
      "cell_type": "markdown",
      "metadata": {},
      "source": [
        "以下のコードを実行するにはログインしてGoogle Driveを紐付ける必要があります。APIや出力の保存先として用います。 \\\n",
        "Prototypingでは有効ですが、内製化する際は自社のサーバ上で構築する必要があります。 \\\n",
        "Local で実行する場合は、Colab_pathに自身の環境のpathを指定してください。"
      ]
    },
    {
      "cell_type": "code",
      "execution_count": null,
      "metadata": {
        "colab": {
          "base_uri": "https://localhost:8080/"
        },
        "id": "yMXlwSsk6S_Q",
        "outputId": "8d005d2f-31a3-4187-9498-cb030d153a77"
      },
      "outputs": [],
      "source": [
        "# if you are running on Google Colab, run the following and generate path to Colaboratory\n",
        "from google.colab import drive\n",
        "drive.mount(\"drive\")\n",
        "colab_path = \"drive/MyDrive/Colaboratory/\" # Generate Colaboratory folder under you google drive beforehand"
      ]
    },
    {
      "cell_type": "code",
      "execution_count": null,
      "metadata": {
        "id": "5VGlLJjY6u8l"
      },
      "outputs": [],
      "source": [
        "# using google drive, specify the data path. \n",
        "!mkdir -p drive/MyDrive/Colaboratory/accern-raw-json # put raw text starting by \"{\"start_harvested_at\":\"2023-10-02T13:37:18.544Z\",\"end_harvested_at\"...\" , which is of accern data\n",
        "!mkdir -p drive/MyDrive/Colaboratory/data"
      ]
    },
    {
      "cell_type": "markdown",
      "metadata": {},
      "source": [
        "### 次のコードではdfのファイルソースを選択します。\n",
        "1. Accern APIの地のテキストをローカルに保存してから読み込み。Google Colab上で./accern-raw-json下に保存したテキストファイルを配置してください。\n",
        "2. Accern APIのURLから地のテキストとして読み込み\n",
        "3. (*推奨)Accern提供のAPIを利用して、指定した機関でDataframeとして保存. URL, tokenを設定する必要があり。 \n",
        "\n",
        "***2. 3. については、適切なWeb sourceをVendorか著者に確認してください。IPのためここでは公開していません。***"
      ]
    },
    {
      "cell_type": "code",
      "execution_count": null,
      "metadata": {
        "colab": {
          "base_uri": "https://localhost:8080/"
        },
        "id": "43b53BvZ54gv",
        "outputId": "4de6f242-f75d-4e38-c642-4ff74ed51fc6"
      },
      "outputs": [],
      "source": [
        "DFCASE = 3\n",
        "\n",
        "if DFCASE == 3:\n",
        "    accern_api_url = '< Vender provided URL should come here >'\n",
        "    accern_token_url = '< Vendor provided token should come here >'"
      ]
    },
    {
      "cell_type": "code",
      "execution_count": null,
      "metadata": {},
      "outputs": [],
      "source": [
        "import urllib.request\n",
        "# if you save the content to Google drive\n",
        "SAVEAPICONTENT = False \n",
        "\n",
        "if DFCASE == 1:\n",
        "    # if you already have json file downloaded\n",
        "    with open('./accern-raw-json/raw-json.json') as f:\n",
        "        data = json.load(f)\n",
        "\n",
        "elif DFCASE == 2:\n",
        "    # download json file from open API source by accern\n",
        "    url ='< Ask the vendor or author for the web source >'\n",
        "    \n",
        "    # if save or directly convert\n",
        "    if SAVEAPICONTENT == True:\n",
        "        with urllib.request.urlopen(url) as u:\n",
        "            with open(colab_path + \"/accern-raw-json/raw-json_test.json\", 'bw') as o:\n",
        "                text = u.read()\n",
        "                o.write(text)\n",
        "    \n",
        "        with open(colab_path + \"/accern-raw-json/raw-json_test.json\") as f:\n",
        "            data = json.load(f) \n",
        "\n",
        "    else: # SAVEAPICONTENT == False \n",
        "        with urllib.request.urlopen(url) as u:\n",
        "            text = u.read()\n",
        "            data = json.loads(text.decode('utf-8'))\n",
        "         \n",
        "\n",
        "elif DFCASE ==3:\n",
        "    # should contain API. This feature to be implemented in file 2_ \n",
        "    df = DFConcatenator(     url=accern_api_url,\n",
        "                        token=accern_token_url, \n",
        "                        start_date=\"2022-05-01\", end_date=\"2022-05-02\", \n",
        "                        output_pattern=\"oct31\", output_path=\"./accern_raw_json/\",\n",
        "                        mode = \"json\", split_dates=False)\n",
        "\n",
        "\n",
        "# if fetched via raw api text or test json file, execute the following\n",
        "if DFCASE==1 or DFCASE==2:\n",
        "    # Concatenate dataframe\n",
        "    df = pd.DataFrame()\n",
        "    df = pd.Series(data['signals'][0]).to_frame().transpose()\n",
        "    for idx, item in tqdm(enumerate(data['signals'][1:])):\n",
        "        # dict = data['signals'][0]\n",
        "        #    df_tmp = pd.Series(data = item)\n",
        "        df_tmp = pd.Series(item).to_frame().transpose()\n",
        "        df = pd.concat([df, df_tmp], axis=0, ignore_index=True)"
      ]
    },
    {
      "cell_type": "code",
      "execution_count": null,
      "metadata": {},
      "outputs": [],
      "source": [
        "df.head()"
      ]
    },
    {
      "cell_type": "markdown",
      "metadata": {
        "id": "0unHWBSi54g2"
      },
      "source": [
        "# DF datasetを次の情報を保持するように変換します。 datasets.arrow_dataset.Dataset 型として保存します。\n",
        "train_dataset.features \\\n",
        "{'sentence': Value(dtype='string', id=None), \\\n",
        " 'label': ClassLabel(names=['positive', 'negative', 'neutral'], id=None), \\\n",
        " 'user_id': Value(dtype='int64', id=None), \\\n",
        " 'datetime': Value(dtype='string', id=None)}"
      ]
    },
    {
      "cell_type": "code",
      "execution_count": null,
      "metadata": {},
      "outputs": [],
      "source": [
        "# hg_dataset = acc_function.Convert4SentimentAnalysis(df, threshold = 30, target_label = 'event_sentiment') # if you downloaded parser for local environment\n",
        "hg_dataset = Convert4SentimentAnalysis(df, threshold = 30, target_label = 'event_sentiment')\n"
      ]
    },
    {
      "cell_type": "code",
      "execution_count": null,
      "metadata": {
        "colab": {
          "base_uri": "https://localhost:8080/"
        },
        "id": "08gTv4fI54g4",
        "outputId": "0e0e1873-9b81-421c-93af-56fc1d9e449f"
      },
      "outputs": [],
      "source": [
        "# show some exampel sentences\n",
        "hg_dataset['sentence'][:3]"
      ]
    },
    {
      "cell_type": "code",
      "execution_count": null,
      "metadata": {},
      "outputs": [],
      "source": [
        "type(hg_dataset)"
      ]
    },
    {
      "cell_type": "markdown",
      "metadata": {},
      "source": [
        "# Google drive に接続していれば、Driveに以下でオリジナルのdfおよびHg_dfを保存できます。"
      ]
    },
    {
      "cell_type": "markdown",
      "metadata": {},
      "source": [
        "### Save original df data as csv for future reference"
      ]
    },
    {
      "cell_type": "code",
      "execution_count": null,
      "metadata": {
        "id": "T3yXp9IT54gy"
      },
      "outputs": [],
      "source": [
        "df.to_csv(colab_path + '/data/accern_results.csv')"
      ]
    },
    {
      "cell_type": "markdown",
      "metadata": {
        "id": "BMtxIsF654g4"
      },
      "source": [
        "### Save converted Accern data as Pickle file\n"
      ]
    },
    {
      "cell_type": "code",
      "execution_count": null,
      "metadata": {
        "id": "U2K4KPq554g5"
      },
      "outputs": [],
      "source": [
        "with open(colab_path + '/data/accern_dataset.pkl', 'wb') as f:\n",
        "    pickle.dump( hg_dataset, f )"
      ]
    }
  ],
  "metadata": {
    "colab": {
      "include_colab_link": true,
      "provenance": []
    },
    "kernelspec": {
      "display_name": "base",
      "language": "python",
      "name": "python3"
    },
    "language_info": {
      "codemirror_mode": {
        "name": "ipython",
        "version": 3
      },
      "file_extension": ".py",
      "mimetype": "text/x-python",
      "name": "python",
      "nbconvert_exporter": "python",
      "pygments_lexer": "ipython3",
      "version": "3.11.3"
    },
    "orig_nbformat": 4,
    "widgets": {
      "application/vnd.jupyter.widget-state+json": {
        "0638aa75632047b9ba9e29c8e0e7acd4": {
          "model_module": "@jupyter-widgets/base",
          "model_module_version": "1.2.0",
          "model_name": "LayoutModel",
          "state": {
            "_model_module": "@jupyter-widgets/base",
            "_model_module_version": "1.2.0",
            "_model_name": "LayoutModel",
            "_view_count": null,
            "_view_module": "@jupyter-widgets/base",
            "_view_module_version": "1.2.0",
            "_view_name": "LayoutView",
            "align_content": null,
            "align_items": null,
            "align_self": null,
            "border": null,
            "bottom": null,
            "display": null,
            "flex": null,
            "flex_flow": null,
            "grid_area": null,
            "grid_auto_columns": null,
            "grid_auto_flow": null,
            "grid_auto_rows": null,
            "grid_column": null,
            "grid_gap": null,
            "grid_row": null,
            "grid_template_areas": null,
            "grid_template_columns": null,
            "grid_template_rows": null,
            "height": null,
            "justify_content": null,
            "justify_items": null,
            "left": null,
            "margin": null,
            "max_height": null,
            "max_width": null,
            "min_height": null,
            "min_width": null,
            "object_fit": null,
            "object_position": null,
            "order": null,
            "overflow": null,
            "overflow_x": null,
            "overflow_y": null,
            "padding": null,
            "right": null,
            "top": null,
            "visibility": null,
            "width": null
          }
        },
        "0e94995d1c6641b2bdaa063f105f9800": {
          "model_module": "@jupyter-widgets/base",
          "model_module_version": "1.2.0",
          "model_name": "LayoutModel",
          "state": {
            "_model_module": "@jupyter-widgets/base",
            "_model_module_version": "1.2.0",
            "_model_name": "LayoutModel",
            "_view_count": null,
            "_view_module": "@jupyter-widgets/base",
            "_view_module_version": "1.2.0",
            "_view_name": "LayoutView",
            "align_content": null,
            "align_items": null,
            "align_self": null,
            "border": null,
            "bottom": null,
            "display": null,
            "flex": null,
            "flex_flow": null,
            "grid_area": null,
            "grid_auto_columns": null,
            "grid_auto_flow": null,
            "grid_auto_rows": null,
            "grid_column": null,
            "grid_gap": null,
            "grid_row": null,
            "grid_template_areas": null,
            "grid_template_columns": null,
            "grid_template_rows": null,
            "height": null,
            "justify_content": null,
            "justify_items": null,
            "left": null,
            "margin": null,
            "max_height": null,
            "max_width": null,
            "min_height": null,
            "min_width": null,
            "object_fit": null,
            "object_position": null,
            "order": null,
            "overflow": null,
            "overflow_x": null,
            "overflow_y": null,
            "padding": null,
            "right": null,
            "top": null,
            "visibility": null,
            "width": null
          }
        },
        "1a7dc250894b4513b87b0c19722307c5": {
          "model_module": "@jupyter-widgets/base",
          "model_module_version": "1.2.0",
          "model_name": "LayoutModel",
          "state": {
            "_model_module": "@jupyter-widgets/base",
            "_model_module_version": "1.2.0",
            "_model_name": "LayoutModel",
            "_view_count": null,
            "_view_module": "@jupyter-widgets/base",
            "_view_module_version": "1.2.0",
            "_view_name": "LayoutView",
            "align_content": null,
            "align_items": null,
            "align_self": null,
            "border": null,
            "bottom": null,
            "display": null,
            "flex": null,
            "flex_flow": null,
            "grid_area": null,
            "grid_auto_columns": null,
            "grid_auto_flow": null,
            "grid_auto_rows": null,
            "grid_column": null,
            "grid_gap": null,
            "grid_row": null,
            "grid_template_areas": null,
            "grid_template_columns": null,
            "grid_template_rows": null,
            "height": null,
            "justify_content": null,
            "justify_items": null,
            "left": null,
            "margin": null,
            "max_height": null,
            "max_width": null,
            "min_height": null,
            "min_width": null,
            "object_fit": null,
            "object_position": null,
            "order": null,
            "overflow": null,
            "overflow_x": null,
            "overflow_y": null,
            "padding": null,
            "right": null,
            "top": null,
            "visibility": null,
            "width": null
          }
        },
        "230a40aa536247b3865b7fb1028d56d4": {
          "model_module": "@jupyter-widgets/base",
          "model_module_version": "1.2.0",
          "model_name": "LayoutModel",
          "state": {
            "_model_module": "@jupyter-widgets/base",
            "_model_module_version": "1.2.0",
            "_model_name": "LayoutModel",
            "_view_count": null,
            "_view_module": "@jupyter-widgets/base",
            "_view_module_version": "1.2.0",
            "_view_name": "LayoutView",
            "align_content": null,
            "align_items": null,
            "align_self": null,
            "border": null,
            "bottom": null,
            "display": null,
            "flex": null,
            "flex_flow": null,
            "grid_area": null,
            "grid_auto_columns": null,
            "grid_auto_flow": null,
            "grid_auto_rows": null,
            "grid_column": null,
            "grid_gap": null,
            "grid_row": null,
            "grid_template_areas": null,
            "grid_template_columns": null,
            "grid_template_rows": null,
            "height": null,
            "justify_content": null,
            "justify_items": null,
            "left": null,
            "margin": null,
            "max_height": null,
            "max_width": null,
            "min_height": null,
            "min_width": null,
            "object_fit": null,
            "object_position": null,
            "order": null,
            "overflow": null,
            "overflow_x": null,
            "overflow_y": null,
            "padding": null,
            "right": null,
            "top": null,
            "visibility": null,
            "width": null
          }
        },
        "6afe9ff19ae14bc2a4b6a9340fd8f2ee": {
          "model_module": "@jupyter-widgets/controls",
          "model_module_version": "1.5.0",
          "model_name": "DescriptionStyleModel",
          "state": {
            "_model_module": "@jupyter-widgets/controls",
            "_model_module_version": "1.5.0",
            "_model_name": "DescriptionStyleModel",
            "_view_count": null,
            "_view_module": "@jupyter-widgets/base",
            "_view_module_version": "1.2.0",
            "_view_name": "StyleView",
            "description_width": ""
          }
        },
        "794f803477844585a34d085124d43fe1": {
          "model_module": "@jupyter-widgets/controls",
          "model_module_version": "1.5.0",
          "model_name": "HBoxModel",
          "state": {
            "_dom_classes": [],
            "_model_module": "@jupyter-widgets/controls",
            "_model_module_version": "1.5.0",
            "_model_name": "HBoxModel",
            "_view_count": null,
            "_view_module": "@jupyter-widgets/controls",
            "_view_module_version": "1.5.0",
            "_view_name": "HBoxView",
            "box_style": "",
            "children": [
              "IPY_MODEL_b2195f8b7ca04527aa4102294ab311ea",
              "IPY_MODEL_8fa2700ef3f446b28dd3ed9628f695d3",
              "IPY_MODEL_b442b62666284527ac66867740a0b3f1"
            ],
            "layout": "IPY_MODEL_1a7dc250894b4513b87b0c19722307c5"
          }
        },
        "8fa2700ef3f446b28dd3ed9628f695d3": {
          "model_module": "@jupyter-widgets/controls",
          "model_module_version": "1.5.0",
          "model_name": "FloatProgressModel",
          "state": {
            "_dom_classes": [],
            "_model_module": "@jupyter-widgets/controls",
            "_model_module_version": "1.5.0",
            "_model_name": "FloatProgressModel",
            "_view_count": null,
            "_view_module": "@jupyter-widgets/controls",
            "_view_module_version": "1.5.0",
            "_view_name": "ProgressView",
            "bar_style": "success",
            "description": "",
            "description_tooltip": null,
            "layout": "IPY_MODEL_0638aa75632047b9ba9e29c8e0e7acd4",
            "max": 500,
            "min": 0,
            "orientation": "horizontal",
            "style": "IPY_MODEL_c8d8544d973e4c1297d687673f6ae749",
            "value": 500
          }
        },
        "b2195f8b7ca04527aa4102294ab311ea": {
          "model_module": "@jupyter-widgets/controls",
          "model_module_version": "1.5.0",
          "model_name": "HTMLModel",
          "state": {
            "_dom_classes": [],
            "_model_module": "@jupyter-widgets/controls",
            "_model_module_version": "1.5.0",
            "_model_name": "HTMLModel",
            "_view_count": null,
            "_view_module": "@jupyter-widgets/controls",
            "_view_module_version": "1.5.0",
            "_view_name": "HTMLView",
            "description": "",
            "description_tooltip": null,
            "layout": "IPY_MODEL_0e94995d1c6641b2bdaa063f105f9800",
            "placeholder": "​",
            "style": "IPY_MODEL_6afe9ff19ae14bc2a4b6a9340fd8f2ee",
            "value": "Casting the dataset: 100%"
          }
        },
        "b442b62666284527ac66867740a0b3f1": {
          "model_module": "@jupyter-widgets/controls",
          "model_module_version": "1.5.0",
          "model_name": "HTMLModel",
          "state": {
            "_dom_classes": [],
            "_model_module": "@jupyter-widgets/controls",
            "_model_module_version": "1.5.0",
            "_model_name": "HTMLModel",
            "_view_count": null,
            "_view_module": "@jupyter-widgets/controls",
            "_view_module_version": "1.5.0",
            "_view_name": "HTMLView",
            "description": "",
            "description_tooltip": null,
            "layout": "IPY_MODEL_230a40aa536247b3865b7fb1028d56d4",
            "placeholder": "​",
            "style": "IPY_MODEL_e9f6224c60164b359cc0d76ba07a778f",
            "value": " 500/500 [00:00&lt;00:00, 11513.45 examples/s]"
          }
        },
        "c8d8544d973e4c1297d687673f6ae749": {
          "model_module": "@jupyter-widgets/controls",
          "model_module_version": "1.5.0",
          "model_name": "ProgressStyleModel",
          "state": {
            "_model_module": "@jupyter-widgets/controls",
            "_model_module_version": "1.5.0",
            "_model_name": "ProgressStyleModel",
            "_view_count": null,
            "_view_module": "@jupyter-widgets/base",
            "_view_module_version": "1.2.0",
            "_view_name": "StyleView",
            "bar_color": null,
            "description_width": ""
          }
        },
        "e9f6224c60164b359cc0d76ba07a778f": {
          "model_module": "@jupyter-widgets/controls",
          "model_module_version": "1.5.0",
          "model_name": "DescriptionStyleModel",
          "state": {
            "_model_module": "@jupyter-widgets/controls",
            "_model_module_version": "1.5.0",
            "_model_name": "DescriptionStyleModel",
            "_view_count": null,
            "_view_module": "@jupyter-widgets/base",
            "_view_module_version": "1.2.0",
            "_view_name": "StyleView",
            "description_width": ""
          }
        }
      }
    }
  },
  "nbformat": 4,
  "nbformat_minor": 0
}
