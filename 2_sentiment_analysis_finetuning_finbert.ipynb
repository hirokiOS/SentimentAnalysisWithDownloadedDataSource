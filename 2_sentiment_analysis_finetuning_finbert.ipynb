{
  "cells": [
    {
      "cell_type": "markdown",
      "metadata": {
        "colab_type": "text",
        "id": "view-in-github"
      },
      "source": [
        "<a href=\"https://colab.research.google.com/github/hirokiOS/SentimentAnalysisWithDownloadedDataSource/blob/main/2_sentiment_analysis_finetuning_finbert.ipynb\" target=\"_parent\"><img src=\"https://colab.research.google.com/assets/colab-badge.svg\" alt=\"Open In Colab\"/></a>"
      ]
    },
    {
      "cell_type": "markdown",
      "id": "93ccd385",
      "metadata": {
        "id": "93ccd385"
      },
      "source": [
        "# 大規模言語モデルのファインチューニング"
      ]
    },
    {
      "cell_type": "markdown",
      "id": "55476746",
      "metadata": {},
      "source": [
        "DATAMODEは次の３項のいずれかからご選択ください。\n",
        "DATAMODE == 'WRIME' : 感情分析のデータセット。モデルは東北大学の日本語LLM. \n",
        "DATAMODE == 'ACCERN-API' : URLとAPIを指定してACCERNのAPIを用いる。\n",
        "DATAMODE == 'ACCERN-DRIVE' : ノートブック１においてURLとAPIを指定して保存したデータを用いる。"
      ]
    },
    {
      "cell_type": "code",
      "execution_count": null,
      "id": "da67557a",
      "metadata": {
        "id": "da67557a"
      },
      "outputs": [],
      "source": [
        "# DATAMODE='WRIME'\n",
        "# DATAMODE='ACCERN-DRIVE' use dataset preprocessed in 1_original_accern_parse.ipynb\n",
        "DATAMODE='ACCERN-API' # directly donload dataset from accern provided API\n",
        "\n",
        "if DATAMODE == 'ACCERN-API':\n",
        "    accern_api_url = '< Vender provided URL should come here >'\n",
        "    accern_token_url = '< Vendor provided token should come here >'"
      ]
    },
    {
      "cell_type": "code",
      "execution_count": null,
      "id": "kUvcD2HI9zzq",
      "metadata": {
        "colab": {
          "base_uri": "https://localhost:8080/"
        },
        "id": "kUvcD2HI9zzq",
        "outputId": "ad176baa-9cc0-4b93-fbaa-8b88b5dcf9fc"
      },
      "outputs": [],
      "source": [
        "from google.colab import drive\n",
        "drive.mount(\"drive\")\n",
        "colab_path = \"drive/MyDrive/Colaboratory/\""
      ]
    },
    {
      "cell_type": "markdown",
      "id": "toJHyFGL9AZV",
      "metadata": {
        "collapsed": false,
        "id": "toJHyFGL9AZV",
        "pycharm": {
          "name": "#%% md\n"
        }
      },
      "source": [
        "**注意**\n",
        "こちらのノートブックは、感情分析のデータセットを用いてコードを実行するために用意されています。"
      ]
    },
    {
      "cell_type": "markdown",
      "id": "udaE87CIUSyv",
      "metadata": {
        "id": "udaE87CIUSyv"
      },
      "source": [
        "# 2 感情分析モデルの実装"
      ]
    },
    {
      "cell_type": "markdown",
      "id": "e451487d",
      "metadata": {
        "id": "e451487d"
      },
      "source": [
        "### 2.1 環境の準備"
      ]
    },
    {
      "cell_type": "code",
      "execution_count": null,
      "id": "b4cc4844",
      "metadata": {
        "colab": {
          "base_uri": "https://localhost:8080/"
        },
        "id": "b4cc4844",
        "outputId": "3c65a5ef-2784-4660-ce61-25b64f9ec1df"
      },
      "outputs": [],
      "source": [
        "# Testing following on 3.11.3\n",
        "!pip install --upgrade pip"
      ]
    },
    {
      "cell_type": "code",
      "execution_count": null,
      "id": "12d837c9",
      "metadata": {
        "colab": {
          "base_uri": "https://localhost:8080/"
        },
        "id": "12d837c9",
        "outputId": "774f456e-7926-48b9-b3ff-e4d019764524"
      },
      "outputs": [],
      "source": [
        "#!pip uninstall -y numpy # reset numpy for dependency\n",
        "#!pip uninstall -y setuptools\n",
        "!pip install setuptools\n",
        "!pip install numpy\n",
        "\n",
        "# pytorch installation information found here\n",
        "# https://pytorch.org/get-started/locally/\n",
        "# GPU environment\n",
        "!pip install torch torchvision torchaudio\n",
        "# CPU environment\n",
        "#!pip3 install torch torchvision torchaudio                                                                   # on mac\n",
        "#!pip install torch==2.0.0+cpu torchvision==0.6.0+cpu -f https://download.pytorch.org/whl/torch_stable.html  # on windows\n"
      ]
    },
    {
      "cell_type": "code",
      "execution_count": null,
      "id": "95812908",
      "metadata": {
        "colab": {
          "base_uri": "https://localhost:8080/"
        },
        "id": "95812908",
        "outputId": "8666f79e-756c-4b41-bbf1-8c274d5ce215"
      },
      "outputs": [],
      "source": [
        "# Transformers and Japanese releated environments\n",
        "!pip install \"transformers[ja,torch]\" # transformers==4.24?\n",
        "!pip install  datasets matplotlib japanize-matplotlib tqdm\n",
        "# dependents of pre-trained model\n",
        "!pip install fugashi ipadic unidic-lite torchsummary torchtext sentencepiece\n",
        "!pip install ipywidgets\n",
        "!pip install accern-data==0.0.4"
      ]
    },
    {
      "cell_type": "code",
      "execution_count": null,
      "id": "d954944f",
      "metadata": {},
      "outputs": [],
      "source": [
        "\n",
        "if DATAMODE == 'ACCERN-API':\n",
        "    import requests\n",
        "    # Save datagenerators as file to colab working directory\n",
        "    # If you are using GitHub, make sure you get the \"Raw\" version of the code\n",
        "    giturl1 = 'https://raw.githubusercontent.com/hirokiOS/SentimentAnalysisWithDownloadedDataSource/main/acc_function/ACCDFConcatenator.py'\n",
        "    giturl2 = 'https://raw.githubusercontent.com/hirokiOS/SentimentAnalysisWithDownloadedDataSource/main/acc_function/ConvertDfToHFData.py'\n",
        "    \n",
        "    giturls = [giturl1, giturl2]\n",
        "    \n",
        "    for giturl in giturls:\n",
        "        r = requests.get(giturl)\n",
        "        \n",
        "        filename = giturl.split(\"/\")[-1]\n",
        "        # make sure your filename is the same as how you want to import \n",
        "        with open(filename, 'w') as f:\n",
        "            f.write(r.text)\n",
        "    \n",
        "    # now we can import\n",
        "    from ACCDFConcatenator import DFConcatenator\n",
        "    from ConvertDfToHFData import Convert4SentimentAnalysis"
      ]
    },
    {
      "cell_type": "markdown",
      "id": "32d1cdb5",
      "metadata": {},
      "source": [
        "乱数を固定"
      ]
    },
    {
      "cell_type": "code",
      "execution_count": null,
      "id": "f016fa8a",
      "metadata": {
        "id": "f016fa8a"
      },
      "outputs": [],
      "source": [
        "import torch\n",
        "from transformers.trainer_utils import set_seed\n",
        "# from transformers import set_seed\n",
        "\n",
        "# 乱数シードを42に固定\n",
        "set_seed(42)"
      ]
    },
    {
      "cell_type": "markdown",
      "id": "5f09cfa2",
      "metadata": {
        "id": "5f09cfa2"
      },
      "source": [
        "### 2.2 データセットの準備\n",
        "Accern API経由のデータを利用する場合、利用可能なurlとtokenの指定をお願い致します。"
      ]
    },
    {
      "cell_type": "code",
      "execution_count": null,
      "id": "6d4ba4c0",
      "metadata": {
        "colab": {
          "base_uri": "https://localhost:8080/"
        },
        "id": "6d4ba4c0",
        "outputId": "f9300c95-e243-46b6-9d3a-fad07daf5bb2"
      },
      "outputs": [],
      "source": [
        "from pprint import pprint\n",
        "from datasets import load_dataset\n",
        "from sklearn.model_selection import train_test_split\n",
        "import pickle\n",
        "\n",
        "if DATAMODE=='WRIME':\n",
        "    # Hugging Face Hub上のllm-book/wrime-sentimentのリポジトリから\n",
        "    # データを読み込む\n",
        "    train_dataset = load_dataset(\"llm-book/wrime-sentiment\", split=\"train\", remove_neutral=False)\n",
        "    valid_dataset = load_dataset(\"llm-book/wrime-sentiment\", split=\"validation\", remove_neutral=False)\n",
        "    # pprintで見やすく表示する\n",
        "\n",
        "elif DATAMODE in ['ACCERN-DRIVE', 'ACCERN-API']:\n",
        "    # Note book 1 で作成したDataframeのPickleファイルを読み込み学習用のデータセットとする。\n",
        "    if DATAMODE == 'ACCERN-DRIVE':\n",
        "        with open(colab_path + 'data/accern_dataset.pkl', 'rb') as f:\n",
        "            accern_dataset = pickle.load(f)\n",
        "\n",
        "    # APIより取得したデータを加工しHugging faceのファインチューニングに用いる。\n",
        "    elif DATAMODE == 'ACCERN-API':\n",
        "        df = DFConcatenator(\n",
        "                        url=accern_api_url,\n",
        "                        token=accern_token_url, \n",
        "                        start_date=\"2016-09-08\", end_date=\"2016-09-09\", \n",
        "                        output_pattern=\"oct31\", output_path=\"./accern_raw_json/\", \n",
        "                        mode = \"json\", split_dates=False)\n",
        "\n",
        "        accern_dataset = Convert4SentimentAnalysis(df, threshold = 20, target_label = 'event_sentiment')\n",
        "\n",
        "\n",
        "    train_valid_dataset = accern_dataset.train_test_split(test_size=0.10)\n",
        "    # required_labels = ['sentence', 'label', 'datetime']\n",
        "    train_dataset = train_valid_dataset['train'] # [required_labels]\n",
        "    valid_dataset = train_valid_dataset['test']  #[required_labels]\n",
        "\n",
        "print(train_dataset[3])\n"
      ]
    },
    {
      "cell_type": "code",
      "execution_count": null,
      "id": "jFXY6fDhKtup",
      "metadata": {
        "colab": {
          "base_uri": "https://localhost:8080/"
        },
        "id": "jFXY6fDhKtup",
        "outputId": "14886baa-08c6-45da-9d6f-af814f396797"
      },
      "outputs": [],
      "source": [
        "print(len(train_valid_dataset['train']))\n",
        "print(len(train_valid_dataset['test']))"
      ]
    },
    {
      "cell_type": "code",
      "execution_count": null,
      "id": "1a61ece7",
      "metadata": {
        "id": "1a61ece7"
      },
      "outputs": [],
      "source": [
        "# pprint(train_dataset.features)"
      ]
    },
    {
      "cell_type": "markdown",
      "id": "615990b5",
      "metadata": {
        "id": "615990b5"
      },
      "source": [
        "### 2.3 トークナイザ"
      ]
    },
    {
      "cell_type": "code",
      "execution_count": null,
      "id": "5bb39540",
      "metadata": {
        "colab": {
          "base_uri": "https://localhost:8080/"
        },
        "id": "5bb39540",
        "outputId": "ab3eb9da-4887-445e-e3eb-7661f2ec0d87"
      },
      "outputs": [],
      "source": [
        "from transformers import (\n",
        "    AutoModelForSequenceClassification,\n",
        "    AutoTokenizer,\n",
        "    PreTrainedModel,\n",
        ")\n",
        "\n",
        "# specify model name on Hugging Face Hub\n",
        "\n",
        "if DATAMODE == 'WRIME':\n",
        "    model_name = \"cl-tohoku/bert-base-japanese-v3\"\n",
        "    # model_name = \"cl-tohoku/bert-base-japanese-whole-word-masking\",\n",
        "    tokenizer = AutoTokenizer.from_pretrained(model_name) # read tokenizer from model name\n",
        "    print(tokenizer.tokenize(\"これはテストです。\"))\n",
        "    encoded_input = tokenizer(\"これはテストです。\")\n",
        "\n",
        "elif DATAMODE in ['ACCERN-DRIVE', 'ACCERN-API']:\n",
        "    model_name = \"ProsusAI/finbert\"\n",
        "    tokenizer = AutoTokenizer.from_pretrained(model_name)\n",
        "    print(tokenizer.tokenize(\"This is a test for Finbert\"))\n",
        "    encoded_input = tokenizer(\"This is a test for Finbert\")\n",
        "\n",
        "# check tokenizer class\n",
        "print(type(tokenizer).__name__)"
      ]
    },
    {
      "cell_type": "code",
      "execution_count": null,
      "id": "a4300d90",
      "metadata": {
        "colab": {
          "base_uri": "https://localhost:8080/"
        },
        "id": "a4300d90",
        "outputId": "8c1e14ad-fdc1-45cc-8cad-5fed1ceb6ac8"
      },
      "outputs": [],
      "source": [
        "# 出力されたオブジェクトのクラスを表示\n",
        "print(type(encoded_input).__name__)"
      ]
    },
    {
      "cell_type": "code",
      "execution_count": null,
      "id": "2aebd3c8",
      "metadata": {
        "colab": {
          "base_uri": "https://localhost:8080/"
        },
        "id": "2aebd3c8",
        "outputId": "c7a342b9-07ea-467a-fdec-07467e18c5b6"
      },
      "outputs": [],
      "source": [
        "pprint(encoded_input)"
      ]
    },
    {
      "cell_type": "code",
      "execution_count": null,
      "id": "27af9b91",
      "metadata": {
        "colab": {
          "base_uri": "https://localhost:8080/"
        },
        "id": "27af9b91",
        "outputId": "fe5b37bf-d576-4e0e-91f0-f0ce9077302c"
      },
      "outputs": [],
      "source": [
        "tokenizer.convert_ids_to_tokens(encoded_input[\"input_ids\"])"
      ]
    },
    {
      "cell_type": "markdown",
      "id": "c4574c3d",
      "metadata": {
        "id": "c4574c3d"
      },
      "source": [
        "### 2.4 データセット統計の可視化"
      ]
    },
    {
      "cell_type": "code",
      "execution_count": null,
      "id": "743767a1",
      "metadata": {
        "colab": {
          "base_uri": "https://localhost:8080/",
          "height": 996
        },
        "id": "743767a1",
        "outputId": "a93b96fa-2b0c-454e-d64e-cc60d50eda04"
      },
      "outputs": [],
      "source": [
        "from collections import Counter\n",
        "import japanize_matplotlib\n",
        "import matplotlib.pyplot as plt\n",
        "from datasets import Dataset\n",
        "from tqdm import tqdm\n",
        "\n",
        "plt.rcParams[\"font.size\"] = 18  # 文字サイズを大きくする\n",
        "\n",
        "def visualize_text_length(dataset: Dataset):\n",
        "    \"\"\"データセット中のテキストのトークン数の分布をグラフとして描画\"\"\"\n",
        "    # データセット中のテキストの長さを数える\n",
        "    length_counter = Counter()\n",
        "    for data in tqdm(dataset):\n",
        "        length = len(tokenizer.tokenize(data[\"sentence\"]))\n",
        "        length_counter[length] += 1\n",
        "    # length_counterの値から棒グラフを描画する\n",
        "    plt.bar(length_counter.keys(), length_counter.values(), width=5.0)\n",
        "    plt.xlabel(\"トークン数\")\n",
        "    plt.ylabel(\"事例数\")\n",
        "    plt.show()\n",
        "\n",
        "visualize_text_length(train_dataset)\n",
        "visualize_text_length(valid_dataset)"
      ]
    },
    {
      "cell_type": "code",
      "execution_count": null,
      "id": "42c7f3ba",
      "metadata": {
        "colab": {
          "base_uri": "https://localhost:8080/",
          "height": 921
        },
        "id": "42c7f3ba",
        "outputId": "a909f791-dd45-44e1-cd28-3a1674d598b0"
      },
      "outputs": [],
      "source": [
        "def visualize_labels(dataset: Dataset):\n",
        "    \"\"\"データセット中のラベル分布をグラフとして描画\"\"\"\n",
        "    # データセット中のラベルの数を数える\n",
        "    label_counter = Counter()\n",
        "    for data in dataset:\n",
        "        label_id = data[\"label\"]\n",
        "        label_name = dataset.features[\"label\"].names[label_id]\n",
        "        label_counter[label_name] += 1\n",
        "    # label_counterを棒グラフとして描画する\n",
        "    plt.bar(label_counter.keys(), label_counter.values(), width=1.0)\n",
        "    plt.xlabel(\"ラベル\")\n",
        "    plt.ylabel(\"事例数\")\n",
        "    plt.show()\n",
        "\n",
        "visualize_labels(train_dataset)\n",
        "visualize_labels(valid_dataset)"
      ]
    },
    {
      "cell_type": "markdown",
      "id": "9981e005",
      "metadata": {
        "id": "9981e005"
      },
      "source": [
        "### 2.5 データセットの前処理"
      ]
    },
    {
      "cell_type": "code",
      "execution_count": null,
      "id": "db4deb87",
      "metadata": {
        "id": "db4deb87"
      },
      "outputs": [],
      "source": [
        "from transformers import BatchEncoding\n",
        "\n",
        "def preprocess_text_classification(\n",
        "    example: dict[str, str | int]\n",
        ") -> BatchEncoding:\n",
        "    \"\"\"文書分類の事例のテキストをトークナイズし、IDに変換\"\"\"\n",
        "    encoded_example = tokenizer(example[\"sentence\"], max_length=512, truncation = True)\n",
        "    # モデルの入力引数である\"labels\"をキーとして格納する\n",
        "    encoded_example[\"labels\"] = example[\"label\"]\n",
        "    return encoded_example"
      ]
    },
    {
      "cell_type": "code",
      "execution_count": null,
      "id": "087e4f9b",
      "metadata": {
        "colab": {
          "base_uri": "https://localhost:8080/"
        },
        "id": "087e4f9b",
        "outputId": "f9b8b1b4-f317-49f9-a977-d344f55efb4e"
      },
      "outputs": [],
      "source": [
        "train_dataset"
      ]
    },
    {
      "cell_type": "markdown",
      "id": "6a36fa71",
      "metadata": {},
      "source": [
        "トレイニングと検証に用いるデータサイズの最大量をSETTRAINMAXとSETVALIDMAXで指定してください。\n",
        "\n",
        "Specify the number of maximum data used if just testing the code. \n",
        "larger number might be only available on local GPU environment"
      ]
    },
    {
      "cell_type": "code",
      "execution_count": null,
      "id": "13d1d1a2",
      "metadata": {
        "colab": {
          "base_uri": "https://localhost:8080/",
          "height": 81,
          "referenced_widgets": [
            "b739767f20584d169709268c73d85ab7",
            "a3441e6733184275af3daf42fa4801d6",
            "357b8ccd8875497791e4f987fbf4983a",
            "8db26d3986914dd681365c063c94caa9",
            "22b6704281fb462282744615553fe0d7",
            "6e5343f2e7e8491498bf4a7b2e51bab2",
            "95f2c92f9232441fae6ceebf923ccef5",
            "5f69be7a1475449bb69605cf84ab3f3d",
            "b61c5f6637e643a2b767d1867a423408",
            "85e83e3eee234847a22d7c0c2a89f9ba",
            "ccc535c1f9f84c07a9a84e554c0f000f",
            "b5e0ac62d665456a851c1da5d4e8a40b",
            "8b084453263b49ca8d847da94b9eb4c1",
            "50f7aa3e95144a4b866aa4dec95b5ceb",
            "f730fd7c9ae74d5e99668560b025110d",
            "17f6d4a102364b348ebdaf6dc9dc6737",
            "9a22787ba2374b4aa47f583951f16885",
            "045c3a15f58a49a9aced5d3064f4337f",
            "2cb06dc768b4462681646a68ebc4c9b5",
            "b0196cbf13fb4152ae2658c335cae9f4",
            "4a9b0768ee724020bfc06755d5d144fd",
            "dc730fd84e8d473491b1ac405ef6381c"
          ]
        },
        "id": "13d1d1a2",
        "outputId": "00dbdee6-fbd9-4a56-a9aa-3d655e14edc2"
      },
      "outputs": [],
      "source": [
        "## reduce data size in prototyping\n",
        "SETTRAINMAX = 3000\n",
        "SETVALIDMAX = 1000\n",
        "\n",
        "TRAINSIZE = min(SETTRAINMAX, len(train_dataset))\n",
        "VALIDSIZE = min(SETVALIDMAX, len(valid_dataset))\n",
        "\n",
        "train_dataset_subset = train_dataset.select(range(TRAINSIZE))\n",
        "valid_dataset_subset = valid_dataset.select(range(VALIDSIZE))\n",
        "\n",
        "\n",
        "encoded_train_dataset = train_dataset_subset.map(\n",
        "    preprocess_text_classification,\n",
        "    remove_columns=train_dataset.column_names,\n",
        ")\n",
        "encoded_valid_dataset = valid_dataset_subset.map(\n",
        "    preprocess_text_classification,\n",
        "    remove_columns=valid_dataset.column_names,\n",
        ")"
      ]
    },
    {
      "cell_type": "code",
      "execution_count": null,
      "id": "e35135a4",
      "metadata": {
        "colab": {
          "base_uri": "https://localhost:8080/"
        },
        "id": "e35135a4",
        "outputId": "bb8180c5-7cd0-4a12-c9c8-78290249efaa"
      },
      "outputs": [],
      "source": [
        "print(encoded_train_dataset[0])"
      ]
    },
    {
      "cell_type": "markdown",
      "id": "2a3a07a6",
      "metadata": {
        "id": "2a3a07a6"
      },
      "source": [
        "### 2.6 ミニバッチ構築"
      ]
    },
    {
      "cell_type": "code",
      "execution_count": null,
      "id": "6203489d",
      "metadata": {
        "id": "6203489d"
      },
      "outputs": [],
      "source": [
        "from transformers import DataCollatorWithPadding\n",
        "\n",
        "data_collator = DataCollatorWithPadding(tokenizer=tokenizer)\n",
        "\n",
        "batch_inputs = data_collator(encoded_train_dataset[0:4])\n",
        "pprint({name: tensor.size() for name, tensor in batch_inputs.items()})"
      ]
    },
    {
      "cell_type": "markdown",
      "id": "81822ce0",
      "metadata": {
        "id": "81822ce0"
      },
      "source": [
        "### 2.7 モデルの準備"
      ]
    },
    {
      "cell_type": "code",
      "execution_count": null,
      "id": "fd5e5f59",
      "metadata": {
        "colab": {
          "base_uri": "https://localhost:8080/"
        },
        "id": "fd5e5f59",
        "outputId": "fee718ef-5367-48b9-8cfe-605751373be7"
      },
      "outputs": [],
      "source": [
        "from transformers import AutoModelForSequenceClassification\n",
        "\n",
        "class_label = train_dataset.features[\"label\"]\n",
        "label2id = {label: id for id, label in enumerate(class_label.names)}\n",
        "id2label = {id: label for id, label in enumerate(class_label.names)}\n",
        "model = AutoModelForSequenceClassification.from_pretrained(\n",
        "    model_name,\n",
        "    num_labels=class_label.num_classes,\n",
        "    label2id=label2id,  # ラベル名からIDへの対応を指定\n",
        "    id2label=id2label,  # IDからラベル名への対応を指定\n",
        ")\n",
        "print(type(model).__name__)"
      ]
    },
    {
      "cell_type": "code",
      "execution_count": null,
      "id": "bc3ef02e",
      "metadata": {
        "colab": {
          "base_uri": "https://localhost:8080/"
        },
        "id": "bc3ef02e",
        "outputId": "76de6cfe-4446-4816-c04f-c61907fd59af"
      },
      "outputs": [],
      "source": [
        "print(model.forward(**data_collator(encoded_train_dataset[0:4])))"
      ]
    },
    {
      "cell_type": "markdown",
      "id": "0bb81a95",
      "metadata": {
        "id": "0bb81a95"
      },
      "source": [
        "### 2.8 訓練の実行"
      ]
    },
    {
      "cell_type": "code",
      "execution_count": null,
      "id": "54cf1b63",
      "metadata": {
        "colab": {
          "base_uri": "https://localhost:8080/"
        },
        "id": "54cf1b63",
        "outputId": "b8e7df75-72b9-4dd9-fab0-262efbe2f8e4"
      },
      "outputs": [],
      "source": [
        "from transformers import TrainingArguments\n",
        "import torch\n",
        "use_cuda = torch.cuda.is_available()\n",
        "print('USE CUDA : ' + str(use_cuda))\n",
        "\n",
        "\n",
        "training_args = TrainingArguments(\n",
        "    output_dir=\"output_finbert\",  # 結果の保存フォルダ\n",
        "    per_device_train_batch_size=16,  # 訓練時のバッチサイズ\n",
        "    per_device_eval_batch_size=16,  # 評価時のバッチサイズ\n",
        "    learning_rate=2e-5,  # 学習率\n",
        "    lr_scheduler_type=\"linear\",  # 学習率スケジューラの種類\n",
        "    warmup_ratio=0.1,  # 学習率のウォームアップの長さを指定\n",
        "    num_train_epochs=5,  # エポック数\n",
        "    save_strategy=\"epoch\",  # チェックポイントの保存タイミング\n",
        "    logging_strategy=\"epoch\",  # ロギングのタイミング\n",
        "    evaluation_strategy=\"epoch\",  # 検証セットによる評価のタイミング\n",
        "    load_best_model_at_end=True,  # 訓練後に開発セットで最良のモデルをロード\n",
        "    metric_for_best_model=\"accuracy\",  # 最良のモデルを決定する評価指標\n",
        "    fp16=use_cuda,  # 自動混合精度演算の有効化 # cuda only option\n",
        ")"
      ]
    },
    {
      "cell_type": "code",
      "execution_count": null,
      "id": "0323ffd8",
      "metadata": {
        "id": "0323ffd8"
      },
      "outputs": [],
      "source": [
        "import numpy as np\n",
        "\n",
        "def compute_accuracy(\n",
        "    eval_pred: tuple[np.ndarray, np.ndarray]\n",
        ") -> dict[str, float]:\n",
        "    \"\"\"予測ラベルと正解ラベルから正解率を計算\"\"\"\n",
        "    predictions, labels = eval_pred\n",
        "    # predictionsは各ラベルについてのスコア\n",
        "    # 最もスコアの高いインデックスを予測ラベルとする\n",
        "    predictions = np.argmax(predictions, axis=1)\n",
        "    return {\"accuracy\": (predictions == labels).mean()}"
      ]
    },
    {
      "cell_type": "code",
      "execution_count": null,
      "id": "871c234d",
      "metadata": {
        "colab": {
          "base_uri": "https://localhost:8080/",
          "height": 287
        },
        "id": "871c234d",
        "outputId": "9be7135b-1bc2-481f-9d7e-e46b570b4b0a"
      },
      "outputs": [],
      "source": [
        "from transformers import Trainer\n",
        "\n",
        "trainer = Trainer(\n",
        "    model=model,\n",
        "    train_dataset=encoded_train_dataset,\n",
        "    eval_dataset=encoded_valid_dataset,\n",
        "    data_collator=data_collator,\n",
        "    args=training_args,\n",
        "    compute_metrics=compute_accuracy,\n",
        ")\n",
        "trainer.train()"
      ]
    },
    {
      "cell_type": "markdown",
      "id": "00d79e9c",
      "metadata": {
        "id": "00d79e9c"
      },
      "source": [
        "### 2.9 訓練後のモデルの評価"
      ]
    },
    {
      "cell_type": "code",
      "execution_count": null,
      "id": "1f6737b3",
      "metadata": {
        "colab": {
          "base_uri": "https://localhost:8080/",
          "height": 148
        },
        "id": "1f6737b3",
        "outputId": "a21966eb-aacd-4584-d472-72c0b2cf0feb"
      },
      "outputs": [],
      "source": [
        "# 検証セットでモデルを評価\n",
        "eval_metrics = trainer.evaluate(encoded_valid_dataset)\n",
        "pprint(eval_metrics)\n"
      ]
    },
    {
      "cell_type": "code",
      "execution_count": null,
      "id": "yuvvnXLbPwHs",
      "metadata": {
        "colab": {
          "base_uri": "https://localhost:8080/"
        },
        "id": "yuvvnXLbPwHs",
        "outputId": "69e71cd8-c62e-4df6-ef9c-7026afb6f17e"
      },
      "outputs": [],
      "source": [
        "# Train 前のモデル評価\n",
        "# device = torch.device(\"cpu\")\n",
        "# print(model.to(device).forward(**data_collator(encoded_train_dataset[0:4])))\n",
        "# seq_class_valid_out = model.to(device).forward(**data_collator(encoded_valid_dataset[0:]))"
      ]
    },
    {
      "cell_type": "markdown",
      "id": "08ae46d9",
      "metadata": {
        "id": "08ae46d9"
      },
      "source": [
        "### 2.10 モデルの保存"
      ]
    },
    {
      "cell_type": "markdown",
      "id": "fJk6458PYVY4",
      "metadata": {
        "collapsed": false,
        "id": "fJk6458PYVY4",
        "pycharm": {
          "name": "#%% md\n"
        }
      },
      "source": [
        "Google Driveへの保存"
      ]
    },
    {
      "cell_type": "code",
      "execution_count": null,
      "id": "50321743",
      "metadata": {
        "id": "50321743"
      },
      "outputs": [],
      "source": [
        "# Googleドライブをマウントする\n",
        "from google.colab import drive\n",
        "\n",
        "drive.mount(\"drive\")"
      ]
    },
    {
      "cell_type": "code",
      "execution_count": null,
      "id": "27389427",
      "metadata": {
        "id": "27389427"
      },
      "outputs": [],
      "source": [
        "# 保存されたモデルをGoogleドライブのフォルダにコピーする\n",
        "!mkdir -p drive/MyDrive/Colaboratory/data\n",
        "!cp -r output_finbert drive/MyDrive/Colaboratory/data"
      ]
    },
    {
      "cell_type": "code",
      "execution_count": null,
      "id": "PkPD94nTVWNV",
      "metadata": {
        "id": "PkPD94nTVWNV"
      },
      "outputs": [],
      "source": [
        "# checkpointに加え、現在の状態も保存する。\n",
        "model_dir = '/content/drive/My Drive/Colaboratory/data/'\n",
        "trainer.save_model(model_dir + 'finbert_finetuned/model')"
      ]
    },
    {
      "cell_type": "markdown",
      "id": "R-ingrOUYVY4",
      "metadata": {
        "collapsed": false,
        "id": "R-ingrOUYVY4",
        "pycharm": {
          "name": "#%% md\n"
        }
      },
      "source": [
        "Hugging Face Hubへの保存 (今回は非推奨, NDAの範囲外のデータで保存したい場合。)"
      ]
    },
    {
      "cell_type": "code",
      "execution_count": null,
      "id": "gNVXdF9Zew3g",
      "metadata": {
        "id": "gNVXdF9Zew3g"
      },
      "outputs": [],
      "source": [
        "# from huggingface_hub import login\n",
        "# \n",
        "# login()\n",
        "# # Hugging Face Hubのリポジトリ名\n",
        "# # \"YOUR-ACCOUNT\"は自らのユーザ名に置き換えてください\n",
        "# repo_name = \"YOUR-ACCOUNT/bert-base-japanese-v3-wrime-sentiment\"\n",
        "# # トークナイザとモデルをアップロード\n",
        "# tokenizer.push_to_hub(repo_name)\n",
        "# model.push_to_hub(repo_name)"
      ]
    }
  ],
  "metadata": {
    "accelerator": "GPU",
    "colab": {
      "gpuType": "T4",
      "include_colab_link": true,
      "provenance": []
    },
    "kernelspec": {
      "display_name": "Python 3",
      "name": "python3"
    },
    "language_info": {
      "codemirror_mode": {
        "name": "ipython",
        "version": 3
      },
      "file_extension": ".py",
      "mimetype": "text/x-python",
      "name": "python",
      "nbconvert_exporter": "python",
      "pygments_lexer": "ipython3",
      "version": "3.11.3"
    },
    "widgets": {
      "application/vnd.jupyter.widget-state+json": {
        "045c3a15f58a49a9aced5d3064f4337f": {
          "model_module": "@jupyter-widgets/controls",
          "model_module_version": "1.5.0",
          "model_name": "DescriptionStyleModel",
          "state": {
            "_model_module": "@jupyter-widgets/controls",
            "_model_module_version": "1.5.0",
            "_model_name": "DescriptionStyleModel",
            "_view_count": null,
            "_view_module": "@jupyter-widgets/base",
            "_view_module_version": "1.2.0",
            "_view_name": "StyleView",
            "description_width": ""
          }
        },
        "17f6d4a102364b348ebdaf6dc9dc6737": {
          "model_module": "@jupyter-widgets/base",
          "model_module_version": "1.2.0",
          "model_name": "LayoutModel",
          "state": {
            "_model_module": "@jupyter-widgets/base",
            "_model_module_version": "1.2.0",
            "_model_name": "LayoutModel",
            "_view_count": null,
            "_view_module": "@jupyter-widgets/base",
            "_view_module_version": "1.2.0",
            "_view_name": "LayoutView",
            "align_content": null,
            "align_items": null,
            "align_self": null,
            "border": null,
            "bottom": null,
            "display": null,
            "flex": null,
            "flex_flow": null,
            "grid_area": null,
            "grid_auto_columns": null,
            "grid_auto_flow": null,
            "grid_auto_rows": null,
            "grid_column": null,
            "grid_gap": null,
            "grid_row": null,
            "grid_template_areas": null,
            "grid_template_columns": null,
            "grid_template_rows": null,
            "height": null,
            "justify_content": null,
            "justify_items": null,
            "left": null,
            "margin": null,
            "max_height": null,
            "max_width": null,
            "min_height": null,
            "min_width": null,
            "object_fit": null,
            "object_position": null,
            "order": null,
            "overflow": null,
            "overflow_x": null,
            "overflow_y": null,
            "padding": null,
            "right": null,
            "top": null,
            "visibility": null,
            "width": null
          }
        },
        "22b6704281fb462282744615553fe0d7": {
          "model_module": "@jupyter-widgets/base",
          "model_module_version": "1.2.0",
          "model_name": "LayoutModel",
          "state": {
            "_model_module": "@jupyter-widgets/base",
            "_model_module_version": "1.2.0",
            "_model_name": "LayoutModel",
            "_view_count": null,
            "_view_module": "@jupyter-widgets/base",
            "_view_module_version": "1.2.0",
            "_view_name": "LayoutView",
            "align_content": null,
            "align_items": null,
            "align_self": null,
            "border": null,
            "bottom": null,
            "display": null,
            "flex": null,
            "flex_flow": null,
            "grid_area": null,
            "grid_auto_columns": null,
            "grid_auto_flow": null,
            "grid_auto_rows": null,
            "grid_column": null,
            "grid_gap": null,
            "grid_row": null,
            "grid_template_areas": null,
            "grid_template_columns": null,
            "grid_template_rows": null,
            "height": null,
            "justify_content": null,
            "justify_items": null,
            "left": null,
            "margin": null,
            "max_height": null,
            "max_width": null,
            "min_height": null,
            "min_width": null,
            "object_fit": null,
            "object_position": null,
            "order": null,
            "overflow": null,
            "overflow_x": null,
            "overflow_y": null,
            "padding": null,
            "right": null,
            "top": null,
            "visibility": null,
            "width": null
          }
        },
        "2cb06dc768b4462681646a68ebc4c9b5": {
          "model_module": "@jupyter-widgets/base",
          "model_module_version": "1.2.0",
          "model_name": "LayoutModel",
          "state": {
            "_model_module": "@jupyter-widgets/base",
            "_model_module_version": "1.2.0",
            "_model_name": "LayoutModel",
            "_view_count": null,
            "_view_module": "@jupyter-widgets/base",
            "_view_module_version": "1.2.0",
            "_view_name": "LayoutView",
            "align_content": null,
            "align_items": null,
            "align_self": null,
            "border": null,
            "bottom": null,
            "display": null,
            "flex": null,
            "flex_flow": null,
            "grid_area": null,
            "grid_auto_columns": null,
            "grid_auto_flow": null,
            "grid_auto_rows": null,
            "grid_column": null,
            "grid_gap": null,
            "grid_row": null,
            "grid_template_areas": null,
            "grid_template_columns": null,
            "grid_template_rows": null,
            "height": null,
            "justify_content": null,
            "justify_items": null,
            "left": null,
            "margin": null,
            "max_height": null,
            "max_width": null,
            "min_height": null,
            "min_width": null,
            "object_fit": null,
            "object_position": null,
            "order": null,
            "overflow": null,
            "overflow_x": null,
            "overflow_y": null,
            "padding": null,
            "right": null,
            "top": null,
            "visibility": null,
            "width": null
          }
        },
        "357b8ccd8875497791e4f987fbf4983a": {
          "model_module": "@jupyter-widgets/controls",
          "model_module_version": "1.5.0",
          "model_name": "FloatProgressModel",
          "state": {
            "_dom_classes": [],
            "_model_module": "@jupyter-widgets/controls",
            "_model_module_version": "1.5.0",
            "_model_name": "FloatProgressModel",
            "_view_count": null,
            "_view_module": "@jupyter-widgets/controls",
            "_view_module_version": "1.5.0",
            "_view_name": "ProgressView",
            "bar_style": "success",
            "description": "",
            "description_tooltip": null,
            "layout": "IPY_MODEL_5f69be7a1475449bb69605cf84ab3f3d",
            "max": 450,
            "min": 0,
            "orientation": "horizontal",
            "style": "IPY_MODEL_b61c5f6637e643a2b767d1867a423408",
            "value": 450
          }
        },
        "4a9b0768ee724020bfc06755d5d144fd": {
          "model_module": "@jupyter-widgets/base",
          "model_module_version": "1.2.0",
          "model_name": "LayoutModel",
          "state": {
            "_model_module": "@jupyter-widgets/base",
            "_model_module_version": "1.2.0",
            "_model_name": "LayoutModel",
            "_view_count": null,
            "_view_module": "@jupyter-widgets/base",
            "_view_module_version": "1.2.0",
            "_view_name": "LayoutView",
            "align_content": null,
            "align_items": null,
            "align_self": null,
            "border": null,
            "bottom": null,
            "display": null,
            "flex": null,
            "flex_flow": null,
            "grid_area": null,
            "grid_auto_columns": null,
            "grid_auto_flow": null,
            "grid_auto_rows": null,
            "grid_column": null,
            "grid_gap": null,
            "grid_row": null,
            "grid_template_areas": null,
            "grid_template_columns": null,
            "grid_template_rows": null,
            "height": null,
            "justify_content": null,
            "justify_items": null,
            "left": null,
            "margin": null,
            "max_height": null,
            "max_width": null,
            "min_height": null,
            "min_width": null,
            "object_fit": null,
            "object_position": null,
            "order": null,
            "overflow": null,
            "overflow_x": null,
            "overflow_y": null,
            "padding": null,
            "right": null,
            "top": null,
            "visibility": null,
            "width": null
          }
        },
        "50f7aa3e95144a4b866aa4dec95b5ceb": {
          "model_module": "@jupyter-widgets/controls",
          "model_module_version": "1.5.0",
          "model_name": "FloatProgressModel",
          "state": {
            "_dom_classes": [],
            "_model_module": "@jupyter-widgets/controls",
            "_model_module_version": "1.5.0",
            "_model_name": "FloatProgressModel",
            "_view_count": null,
            "_view_module": "@jupyter-widgets/controls",
            "_view_module_version": "1.5.0",
            "_view_name": "ProgressView",
            "bar_style": "success",
            "description": "",
            "description_tooltip": null,
            "layout": "IPY_MODEL_2cb06dc768b4462681646a68ebc4c9b5",
            "max": 50,
            "min": 0,
            "orientation": "horizontal",
            "style": "IPY_MODEL_b0196cbf13fb4152ae2658c335cae9f4",
            "value": 50
          }
        },
        "5f69be7a1475449bb69605cf84ab3f3d": {
          "model_module": "@jupyter-widgets/base",
          "model_module_version": "1.2.0",
          "model_name": "LayoutModel",
          "state": {
            "_model_module": "@jupyter-widgets/base",
            "_model_module_version": "1.2.0",
            "_model_name": "LayoutModel",
            "_view_count": null,
            "_view_module": "@jupyter-widgets/base",
            "_view_module_version": "1.2.0",
            "_view_name": "LayoutView",
            "align_content": null,
            "align_items": null,
            "align_self": null,
            "border": null,
            "bottom": null,
            "display": null,
            "flex": null,
            "flex_flow": null,
            "grid_area": null,
            "grid_auto_columns": null,
            "grid_auto_flow": null,
            "grid_auto_rows": null,
            "grid_column": null,
            "grid_gap": null,
            "grid_row": null,
            "grid_template_areas": null,
            "grid_template_columns": null,
            "grid_template_rows": null,
            "height": null,
            "justify_content": null,
            "justify_items": null,
            "left": null,
            "margin": null,
            "max_height": null,
            "max_width": null,
            "min_height": null,
            "min_width": null,
            "object_fit": null,
            "object_position": null,
            "order": null,
            "overflow": null,
            "overflow_x": null,
            "overflow_y": null,
            "padding": null,
            "right": null,
            "top": null,
            "visibility": null,
            "width": null
          }
        },
        "6e5343f2e7e8491498bf4a7b2e51bab2": {
          "model_module": "@jupyter-widgets/base",
          "model_module_version": "1.2.0",
          "model_name": "LayoutModel",
          "state": {
            "_model_module": "@jupyter-widgets/base",
            "_model_module_version": "1.2.0",
            "_model_name": "LayoutModel",
            "_view_count": null,
            "_view_module": "@jupyter-widgets/base",
            "_view_module_version": "1.2.0",
            "_view_name": "LayoutView",
            "align_content": null,
            "align_items": null,
            "align_self": null,
            "border": null,
            "bottom": null,
            "display": null,
            "flex": null,
            "flex_flow": null,
            "grid_area": null,
            "grid_auto_columns": null,
            "grid_auto_flow": null,
            "grid_auto_rows": null,
            "grid_column": null,
            "grid_gap": null,
            "grid_row": null,
            "grid_template_areas": null,
            "grid_template_columns": null,
            "grid_template_rows": null,
            "height": null,
            "justify_content": null,
            "justify_items": null,
            "left": null,
            "margin": null,
            "max_height": null,
            "max_width": null,
            "min_height": null,
            "min_width": null,
            "object_fit": null,
            "object_position": null,
            "order": null,
            "overflow": null,
            "overflow_x": null,
            "overflow_y": null,
            "padding": null,
            "right": null,
            "top": null,
            "visibility": null,
            "width": null
          }
        },
        "85e83e3eee234847a22d7c0c2a89f9ba": {
          "model_module": "@jupyter-widgets/base",
          "model_module_version": "1.2.0",
          "model_name": "LayoutModel",
          "state": {
            "_model_module": "@jupyter-widgets/base",
            "_model_module_version": "1.2.0",
            "_model_name": "LayoutModel",
            "_view_count": null,
            "_view_module": "@jupyter-widgets/base",
            "_view_module_version": "1.2.0",
            "_view_name": "LayoutView",
            "align_content": null,
            "align_items": null,
            "align_self": null,
            "border": null,
            "bottom": null,
            "display": null,
            "flex": null,
            "flex_flow": null,
            "grid_area": null,
            "grid_auto_columns": null,
            "grid_auto_flow": null,
            "grid_auto_rows": null,
            "grid_column": null,
            "grid_gap": null,
            "grid_row": null,
            "grid_template_areas": null,
            "grid_template_columns": null,
            "grid_template_rows": null,
            "height": null,
            "justify_content": null,
            "justify_items": null,
            "left": null,
            "margin": null,
            "max_height": null,
            "max_width": null,
            "min_height": null,
            "min_width": null,
            "object_fit": null,
            "object_position": null,
            "order": null,
            "overflow": null,
            "overflow_x": null,
            "overflow_y": null,
            "padding": null,
            "right": null,
            "top": null,
            "visibility": null,
            "width": null
          }
        },
        "8b084453263b49ca8d847da94b9eb4c1": {
          "model_module": "@jupyter-widgets/controls",
          "model_module_version": "1.5.0",
          "model_name": "HTMLModel",
          "state": {
            "_dom_classes": [],
            "_model_module": "@jupyter-widgets/controls",
            "_model_module_version": "1.5.0",
            "_model_name": "HTMLModel",
            "_view_count": null,
            "_view_module": "@jupyter-widgets/controls",
            "_view_module_version": "1.5.0",
            "_view_name": "HTMLView",
            "description": "",
            "description_tooltip": null,
            "layout": "IPY_MODEL_9a22787ba2374b4aa47f583951f16885",
            "placeholder": "​",
            "style": "IPY_MODEL_045c3a15f58a49a9aced5d3064f4337f",
            "value": "Map: 100%"
          }
        },
        "8db26d3986914dd681365c063c94caa9": {
          "model_module": "@jupyter-widgets/controls",
          "model_module_version": "1.5.0",
          "model_name": "HTMLModel",
          "state": {
            "_dom_classes": [],
            "_model_module": "@jupyter-widgets/controls",
            "_model_module_version": "1.5.0",
            "_model_name": "HTMLModel",
            "_view_count": null,
            "_view_module": "@jupyter-widgets/controls",
            "_view_module_version": "1.5.0",
            "_view_name": "HTMLView",
            "description": "",
            "description_tooltip": null,
            "layout": "IPY_MODEL_85e83e3eee234847a22d7c0c2a89f9ba",
            "placeholder": "​",
            "style": "IPY_MODEL_ccc535c1f9f84c07a9a84e554c0f000f",
            "value": " 450/450 [00:00&lt;00:00, 775.22 examples/s]"
          }
        },
        "95f2c92f9232441fae6ceebf923ccef5": {
          "model_module": "@jupyter-widgets/controls",
          "model_module_version": "1.5.0",
          "model_name": "DescriptionStyleModel",
          "state": {
            "_model_module": "@jupyter-widgets/controls",
            "_model_module_version": "1.5.0",
            "_model_name": "DescriptionStyleModel",
            "_view_count": null,
            "_view_module": "@jupyter-widgets/base",
            "_view_module_version": "1.2.0",
            "_view_name": "StyleView",
            "description_width": ""
          }
        },
        "9a22787ba2374b4aa47f583951f16885": {
          "model_module": "@jupyter-widgets/base",
          "model_module_version": "1.2.0",
          "model_name": "LayoutModel",
          "state": {
            "_model_module": "@jupyter-widgets/base",
            "_model_module_version": "1.2.0",
            "_model_name": "LayoutModel",
            "_view_count": null,
            "_view_module": "@jupyter-widgets/base",
            "_view_module_version": "1.2.0",
            "_view_name": "LayoutView",
            "align_content": null,
            "align_items": null,
            "align_self": null,
            "border": null,
            "bottom": null,
            "display": null,
            "flex": null,
            "flex_flow": null,
            "grid_area": null,
            "grid_auto_columns": null,
            "grid_auto_flow": null,
            "grid_auto_rows": null,
            "grid_column": null,
            "grid_gap": null,
            "grid_row": null,
            "grid_template_areas": null,
            "grid_template_columns": null,
            "grid_template_rows": null,
            "height": null,
            "justify_content": null,
            "justify_items": null,
            "left": null,
            "margin": null,
            "max_height": null,
            "max_width": null,
            "min_height": null,
            "min_width": null,
            "object_fit": null,
            "object_position": null,
            "order": null,
            "overflow": null,
            "overflow_x": null,
            "overflow_y": null,
            "padding": null,
            "right": null,
            "top": null,
            "visibility": null,
            "width": null
          }
        },
        "a3441e6733184275af3daf42fa4801d6": {
          "model_module": "@jupyter-widgets/controls",
          "model_module_version": "1.5.0",
          "model_name": "HTMLModel",
          "state": {
            "_dom_classes": [],
            "_model_module": "@jupyter-widgets/controls",
            "_model_module_version": "1.5.0",
            "_model_name": "HTMLModel",
            "_view_count": null,
            "_view_module": "@jupyter-widgets/controls",
            "_view_module_version": "1.5.0",
            "_view_name": "HTMLView",
            "description": "",
            "description_tooltip": null,
            "layout": "IPY_MODEL_6e5343f2e7e8491498bf4a7b2e51bab2",
            "placeholder": "​",
            "style": "IPY_MODEL_95f2c92f9232441fae6ceebf923ccef5",
            "value": "Map: 100%"
          }
        },
        "b0196cbf13fb4152ae2658c335cae9f4": {
          "model_module": "@jupyter-widgets/controls",
          "model_module_version": "1.5.0",
          "model_name": "ProgressStyleModel",
          "state": {
            "_model_module": "@jupyter-widgets/controls",
            "_model_module_version": "1.5.0",
            "_model_name": "ProgressStyleModel",
            "_view_count": null,
            "_view_module": "@jupyter-widgets/base",
            "_view_module_version": "1.2.0",
            "_view_name": "StyleView",
            "bar_color": null,
            "description_width": ""
          }
        },
        "b5e0ac62d665456a851c1da5d4e8a40b": {
          "model_module": "@jupyter-widgets/controls",
          "model_module_version": "1.5.0",
          "model_name": "HBoxModel",
          "state": {
            "_dom_classes": [],
            "_model_module": "@jupyter-widgets/controls",
            "_model_module_version": "1.5.0",
            "_model_name": "HBoxModel",
            "_view_count": null,
            "_view_module": "@jupyter-widgets/controls",
            "_view_module_version": "1.5.0",
            "_view_name": "HBoxView",
            "box_style": "",
            "children": [
              "IPY_MODEL_8b084453263b49ca8d847da94b9eb4c1",
              "IPY_MODEL_50f7aa3e95144a4b866aa4dec95b5ceb",
              "IPY_MODEL_f730fd7c9ae74d5e99668560b025110d"
            ],
            "layout": "IPY_MODEL_17f6d4a102364b348ebdaf6dc9dc6737"
          }
        },
        "b61c5f6637e643a2b767d1867a423408": {
          "model_module": "@jupyter-widgets/controls",
          "model_module_version": "1.5.0",
          "model_name": "ProgressStyleModel",
          "state": {
            "_model_module": "@jupyter-widgets/controls",
            "_model_module_version": "1.5.0",
            "_model_name": "ProgressStyleModel",
            "_view_count": null,
            "_view_module": "@jupyter-widgets/base",
            "_view_module_version": "1.2.0",
            "_view_name": "StyleView",
            "bar_color": null,
            "description_width": ""
          }
        },
        "b739767f20584d169709268c73d85ab7": {
          "model_module": "@jupyter-widgets/controls",
          "model_module_version": "1.5.0",
          "model_name": "HBoxModel",
          "state": {
            "_dom_classes": [],
            "_model_module": "@jupyter-widgets/controls",
            "_model_module_version": "1.5.0",
            "_model_name": "HBoxModel",
            "_view_count": null,
            "_view_module": "@jupyter-widgets/controls",
            "_view_module_version": "1.5.0",
            "_view_name": "HBoxView",
            "box_style": "",
            "children": [
              "IPY_MODEL_a3441e6733184275af3daf42fa4801d6",
              "IPY_MODEL_357b8ccd8875497791e4f987fbf4983a",
              "IPY_MODEL_8db26d3986914dd681365c063c94caa9"
            ],
            "layout": "IPY_MODEL_22b6704281fb462282744615553fe0d7"
          }
        },
        "ccc535c1f9f84c07a9a84e554c0f000f": {
          "model_module": "@jupyter-widgets/controls",
          "model_module_version": "1.5.0",
          "model_name": "DescriptionStyleModel",
          "state": {
            "_model_module": "@jupyter-widgets/controls",
            "_model_module_version": "1.5.0",
            "_model_name": "DescriptionStyleModel",
            "_view_count": null,
            "_view_module": "@jupyter-widgets/base",
            "_view_module_version": "1.2.0",
            "_view_name": "StyleView",
            "description_width": ""
          }
        },
        "dc730fd84e8d473491b1ac405ef6381c": {
          "model_module": "@jupyter-widgets/controls",
          "model_module_version": "1.5.0",
          "model_name": "DescriptionStyleModel",
          "state": {
            "_model_module": "@jupyter-widgets/controls",
            "_model_module_version": "1.5.0",
            "_model_name": "DescriptionStyleModel",
            "_view_count": null,
            "_view_module": "@jupyter-widgets/base",
            "_view_module_version": "1.2.0",
            "_view_name": "StyleView",
            "description_width": ""
          }
        },
        "f730fd7c9ae74d5e99668560b025110d": {
          "model_module": "@jupyter-widgets/controls",
          "model_module_version": "1.5.0",
          "model_name": "HTMLModel",
          "state": {
            "_dom_classes": [],
            "_model_module": "@jupyter-widgets/controls",
            "_model_module_version": "1.5.0",
            "_model_name": "HTMLModel",
            "_view_count": null,
            "_view_module": "@jupyter-widgets/controls",
            "_view_module_version": "1.5.0",
            "_view_name": "HTMLView",
            "description": "",
            "description_tooltip": null,
            "layout": "IPY_MODEL_4a9b0768ee724020bfc06755d5d144fd",
            "placeholder": "​",
            "style": "IPY_MODEL_dc730fd84e8d473491b1ac405ef6381c",
            "value": " 50/50 [00:00&lt;00:00, 534.32 examples/s]"
          }
        }
      }
    }
  },
  "nbformat": 4,
  "nbformat_minor": 5
}
